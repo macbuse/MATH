{
 "cells": [
  {
   "cell_type": "markdown",
   "metadata": {},
   "source": [
    "## Random words from statistics of the IKEA catalogue\n",
    "\n",
    "What we will do:\n",
    "\n",
    "- scrape the IKEA catalogue\n",
    "- do some **housekeeping** on the data\n",
    "- find all the transition between pairs of characters\n",
    "- create words by doing a random walk on the graph\n",
    "\n",
    "### Context\n",
    "\n",
    "Names of IKEA products have always been a mystery to me\n",
    "and apparently to \n",
    "[Chuck Palahniuk](https://en.wikipedia.org/wiki/Chuck_Palahniuk).\n",
    "\n",
    "Apparently they are [not random](https://qz.com/896146/how-ikea-names-its-products-the-curious-taxonomy-behind-billy-poang-malm-kallax-and-rens/):\n",
    "\n",
    "- Bathroom articles = Names of Swedish lakes and bodies of water\n",
    "Bed textiles = Flowers and plants\n",
    "- Beds, wardrobes, hall furniture = Norwegian place names\n",
    "- Bookcases = Professions, Scandinavian boy’s names\n",
    "\n",
    "etc.\n",
    "\n",
    "But we are going to compose new names by doing a random walk \n",
    "on a graph built from data culled from the IKEA catalogue.\n",
    "\n",
    "#### Examples\n",
    "\n",
    "BOLSSJUMNDERINHÖDRERÖR BALA BOFIGSKN BISÖ <br>\n",
    "BEDNÖVIG BALFÅD BJUSORA BIGILINGGAR BORNG BIKELYUSIK\n",
    "\n",
    "### Notes\n",
    "\n",
    "I wrote this to try out some new stuff:\n",
    "\n",
    "- in Python 3.6.6 \n",
    "- on a Asus C301SA Chromebook \n",
    "- using \n",
    "[JupyterLab](https://blog.jupyter.org/jupyterlab-is-ready-for-users-5a6f039b8906) served from a Ubuntu Xenial in a [Crouton chroot](https://github.com/dnschneid/crouton)."
   ]
  },
  {
   "cell_type": "code",
   "execution_count": 1,
   "metadata": {},
   "outputs": [],
   "source": [
    "import requests\n",
    "import urllib, re\n",
    "\n",
    "prod_pp = re.compile('<h3 class =\"noBold\"><span class=\"productTitle floatLeft\">(.*?)</span>'\n",
    "'.*?<span class=\"productDesp\">(.*?)</span></h3>', re.DOTALL)\n",
    "\n",
    "prod_cat_pp = re.compile('<a class=\".*?\" href=\"(.*?)\">(.*?)</a>', re.DOTALL)"
   ]
  },
  {
   "cell_type": "markdown",
   "metadata": {},
   "source": [
    "I had to dump the file and open it with vi because I was having trouble copying in the inspect window in Chrome"
   ]
  },
  {
   "cell_type": "code",
   "execution_count": 3,
   "metadata": {},
   "outputs": [],
   "source": [
    "url = 'https://www.ikea.com/us/catalog/allproducts/alphabetical/'\n",
    "fp = urllib.request.urlopen(url)\n",
    "tt = fp.read()\n",
    "with open('rr.txt','wb') as fp:\n",
    "    fp.write(str(tt))"
   ]
  },
  {
   "cell_type": "markdown",
   "metadata": {},
   "source": [
    "Begin by \n",
    "1. pulling the main index page \n",
    "1. extracting the urls for different category"
   ]
  },
  {
   "cell_type": "code",
   "execution_count": 62,
   "metadata": {},
   "outputs": [],
   "source": [
    "url = 'https://www.ikea.com/us/catalog/allproducts/alphabetical/'\n",
    "\n",
    "fp = urllib.request.urlopen(url)\n",
    "tt = fp.read()\n",
    "\n",
    "data = prod_cat_pp.findall(str(tt))\n",
    "data2 = [ (x,y.strip('\\\\t\\\\r\\\\n')) for x,y in data if 'categories' in x]\n",
    "catelog_urls, categories_tags = list(zip(*data2))"
   ]
  },
  {
   "cell_type": "markdown",
   "metadata": {},
   "source": [
    "Scrape all the category pages and get the product names\n"
   ]
  },
  {
   "cell_type": "code",
   "execution_count": 73,
   "metadata": {},
   "outputs": [
    {
     "name": "stdout",
     "output_type": "stream",
     "text": [
      "https://www.ikea.com/us/en/catalog/categories/departments/living_room/39130/\n",
      "https://www.ikea.com/us/en/catalog/categories/departments/living_room/16239/\n",
      "https://www.ikea.com/us/en/catalog/categories/departments/childrens_ikea/31772/\n",
      "https://www.ikea.com/us/en/catalog/categories/departments/childrens_ikea/18690/\n",
      "https://www.ikea.com/us/en/catalog/categories/departments/childrens_ikea/18716/\n",
      "https://www.ikea.com/us/en/catalog/categories/departments/cooking/20636/\n",
      "https://www.ikea.com/us/en/catalog/categories/departments/dining/16244/\n",
      "https://www.ikea.com/us/en/catalog/categories/departments/bathroom/20519/\n",
      "https://www.ikea.com/us/en/catalog/categories/departments/bathroom/39269/\n",
      "https://www.ikea.com/us/en/catalog/categories/departments/bathroom/10555/\n",
      "https://www.ikea.com/us/en/catalog/categories/departments/bathroom/10736/\n",
      "https://www.ikea.com/us/en/catalog/categories/departments/bathroom/20490/\n",
      "https://www.ikea.com/us/en/catalog/categories/departments/bathroom/20802/\n",
      "https://www.ikea.com/us/en/catalog/categories/departments/bedroom/24822/\n",
      "https://www.ikea.com/us/en/catalog/categories/departments/bedroom/19059/\n",
      "https://www.ikea.com/us/en/catalog/categories/departments/bedroom/10651/\n",
      "https://www.ikea.com/us/en/catalog/categories/departments/bedroom/25205/\n",
      "https://www.ikea.com/us/en/catalog/categories/departments/bedroom/20527/\n",
      "https://www.ikea.com/us/en/catalog/categories/departments/food/25211/\n",
      "https://www.ikea.com/us/en/catalog/categories/departments/ikea_family_products/35775/\n",
      "https://www.ikea.com/us/en/catalog/categories/departments/workspaces/16213/\n",
      "https://www.ikea.com/us/en/catalog/categories/departments/living_room/20528/\n",
      "https://www.ikea.com/us/en/catalog/categories/departments/living_room/10382/\n",
      "https://www.ikea.com/us/en/catalog/categories/departments/ikea_family_products/16251/\n",
      "https://www.ikea.com/us/en/catalog/categories/departments/food/25212/\n",
      "https://www.ikea.com/us/en/catalog/categories/departments/living_room/10384/\n",
      "https://www.ikea.com/us/en/catalog/categories/departments/workspaces/16195/\n",
      "https://www.ikea.com/us/en/catalog/categories/departments/dining/19141/\n",
      "https://www.ikea.com/us/en/catalog/categories/departments/decoration/10760/\n",
      "https://www.ikea.com/us/en/catalog/categories/departments/food/25218/\n",
      "https://www.ikea.com/us/en/catalog/categories/departments/pets/39569/\n",
      "https://www.ikea.com/us/en/catalog/categories/departments/living_room/18750/\n",
      "https://www.ikea.com/us/en/catalog/categories/departments/childrens_ikea/18701/\n",
      "https://www.ikea.com/us/en/catalog/categories/departments/bedroom/10451/\n",
      "https://www.ikea.com/us/en/catalog/categories/departments/childrens_ikea/24711/\n",
      "https://www.ikea.com/us/en/catalog/categories/departments/childrens_ikea/18723/\n",
      "https://www.ikea.com/us/en/catalog/categories/departments/childrens_ikea/24708/\n",
      "https://www.ikea.com/us/en/catalog/categories/departments/childrens_ikea/24713/\n",
      "https://www.ikea.com/us/en/catalog/categories/departments/childrens_ikea/18773/\n",
      "https://www.ikea.com/us/en/catalog/categories/departments/childrens_ikea/24712/\n",
      "https://www.ikea.com/us/en/catalog/categories/departments/childrens_ikea/18724/\n",
      "https://www.ikea.com/us/en/catalog/categories/departments/childrens_ikea/24709/\n",
      "https://www.ikea.com/us/en/catalog/categories/departments/childrens_ikea/18714/\n",
      "https://www.ikea.com/us/en/catalog/categories/departments/childrens_ikea/24710/\n",
      "https://www.ikea.com/us/en/catalog/categories/departments/childrens_ikea/18730/\n",
      "https://www.ikea.com/us/en/catalog/categories/departments/decoration/10759/\n",
      "https://www.ikea.com/us/en/catalog/categories/departments/bedroom/10452/\n",
      "https://www.ikea.com/us/en/catalog/categories/departments/living_room/10705/\n",
      "https://www.ikea.com/us/en/catalog/categories/departments/eating/16044/\n",
      "https://www.ikea.com/us/en/catalog/categories/departments/bedroom/20529/\n",
      "https://www.ikea.com/us/en/catalog/categories/departments/cooking/15927/\n",
      "https://www.ikea.com/us/en/catalog/categories/departments/ikea_kitchens/20812/\n",
      "https://www.ikea.com/us/en/catalog/categories/departments/home_electronics/40845/\n",
      "https://www.ikea.com/us/en/catalog/categories/departments/ikea_kitchens/24264/\n",
      "https://www.ikea.com/us/en/catalog/categories/departments/childrens_ikea/18682/\n",
      "https://www.ikea.com/us/en/catalog/categories/departments/childrens_ikea/18755/\n",
      "https://www.ikea.com/us/en/catalog/categories/departments/living_room/18891/\n",
      "https://www.ikea.com/us/en/catalog/categories/departments/living_room/10654/\n",
      "https://www.ikea.com/us/en/catalog/categories/departments/living_room/10659/\n",
      "https://www.ikea.com/us/en/catalog/categories/departments/bedroom/19037/\n",
      "https://www.ikea.com/us/en/catalog/categories/departments/decoration/24924/\n",
      "https://www.ikea.com/us/en/catalog/categories/departments/outdoor/14971/\n",
      "https://www.ikea.com/us/en/catalog/categories/departments/workspaces/20649/\n",
      "https://www.ikea.com/us/en/catalog/categories/departments/dining/25219/\n",
      "https://www.ikea.com/us/en/catalog/categories/departments/dining/19145/\n",
      "https://www.ikea.com/us/en/catalog/categories/departments/dining/dining_storage/\n",
      "https://www.ikea.com/us/en/catalog/categories/departments/dining/21825/\n",
      "https://www.ikea.com/us/en/catalog/categories/departments/eating/18860/\n",
      "https://www.ikea.com/us/en/catalog/categories/departments/ikea_kitchens/20825/\n",
      "https://www.ikea.com/us/en/catalog/categories/departments/cooking/15938/\n",
      "https://www.ikea.com/us/en/catalog/categories/departments/bedroom/28433/\n",
      "https://www.ikea.com/us/en/catalog/categories/departments/pets/39570/\n",
      "https://www.ikea.com/us/en/catalog/categories/departments/workspaces/10711/\n",
      "https://www.ikea.com/us/en/catalog/categories/departments/living_room/10664/\n",
      "https://www.ikea.com/us/en/catalog/categories/departments/living_room/31785/\n",
      "https://www.ikea.com/us/en/catalog/categories/departments/ikea_kitchens/20819/\n",
      "https://www.ikea.com/us/en/catalog/categories/departments/living_room/10661/\n",
      "https://www.ikea.com/us/en/catalog/categories/departments/living_room/10655/\n",
      "https://www.ikea.com/us/en/catalog/categories/departments/bathroom/20724/\n",
      "https://www.ikea.com/us/en/catalog/categories/departments/food/25214/\n",
      "https://www.ikea.com/us/en/catalog/categories/departments/eating/18865/\n",
      "https://www.ikea.com/us/en/catalog/categories/departments/lighting/10731/\n",
      "https://www.ikea.com/us/en/catalog/categories/departments/bedroom/24823/\n",
      "https://www.ikea.com/us/en/catalog/categories/departments/small_storage/15937/\n",
      "https://www.ikea.com/us/en/catalog/categories/departments/decoration/10757/\n",
      "https://www.ikea.com/us/en/catalog/categories/departments/food/25302/\n",
      "https://www.ikea.com/us/en/catalog/categories/departments/cooking/20624/\n",
      "https://www.ikea.com/us/en/catalog/categories/departments/bedroom/16284/\n",
      "https://www.ikea.com/us/en/catalog/categories/departments/ikea_family_products/24847/\n",
      "https://www.ikea.com/us/en/catalog/categories/departments/eating/18868/\n",
      "https://www.ikea.com/us/en/catalog/categories/departments/outdoor/24898/\n",
      "https://www.ikea.com/us/en/catalog/categories/departments/bedroom/19064/\n",
      "https://www.ikea.com/us/en/catalog/categories/departments/childrens_ikea/18715/\n",
      "https://www.ikea.com/us/en/catalog/categories/departments/decoration/42926/\n",
      "https://www.ikea.com/us/en/catalog/categories/departments/bedroom/16274/\n",
      "https://www.ikea.com/us/en/catalog/categories/departments/living_room/workspaces_integrated_lighting/\n",
      "https://www.ikea.com/us/en/catalog/categories/departments/childrens_ikea/18733/\n",
      "https://www.ikea.com/us/en/catalog/categories/departments/ikea_kitchens/24261/\n",
      "https://www.ikea.com/us/en/catalog/categories/departments/kitchen/kitchen_int_lighting/\n",
      "https://www.ikea.com/us/en/catalog/categories/departments/kitchen/10471/\n",
      "https://www.ikea.com/us/en/catalog/categories/departments/Textiles/18850/\n",
      "https://www.ikea.com/us/en/catalog/categories/departments/cooking/20647/\n",
      "https://www.ikea.com/us/en/catalog/categories/departments/cooking/15934/\n",
      "https://www.ikea.com/us/en/catalog/categories/departments/home_improvement/16298/\n",
      "https://www.ikea.com/us/en/catalog/categories/departments/laundry/20597/\n",
      "https://www.ikea.com/us/en/catalog/categories/departments/living_room/10662/\n",
      "https://www.ikea.com/us/en/catalog/categories/departments/living_room/10744/\n",
      "https://www.ikea.com/us/en/catalog/categories/departments/living_room/20515/\n",
      "https://www.ikea.com/us/en/catalog/categories/departments/living_room/29882/\n",
      "https://www.ikea.com/us/en/catalog/categories/departments/bedroom/19039/\n",
      "https://www.ikea.com/us/en/catalog/categories/departments/outdoor/21959/\n",
      "https://www.ikea.com/us/en/catalog/categories/departments/bedroom/24824/\n",
      "https://www.ikea.com/us/en/catalog/categories/departments/bedroom/24825/\n",
      "https://www.ikea.com/us/en/catalog/categories/departments/food/25217/\n",
      "https://www.ikea.com/us/en/catalog/categories/departments/ikea_kitchens/20815/\n",
      "https://www.ikea.com/us/en/catalog/categories/departments/bedroom/20489/\n",
      "https://www.ikea.com/us/en/catalog/categories/departments/cooking/15935/\n",
      "https://www.ikea.com/us/en/catalog/categories/departments/home_electronics/40843/\n",
      "https://www.ikea.com/us/en/catalog/categories/departments/ikea_kitchens/22957/\n",
      "https://www.ikea.com/us/en/catalog/categories/departments/eating/20560/\n",
      "https://www.ikea.com/us/en/catalog/categories/departments/bedroom/20656/\n",
      "https://www.ikea.com/us/en/catalog/categories/departments/workspaces/20652/\n",
      "https://www.ikea.com/us/en/catalog/categories/departments/home_improvement/42948/\n",
      "https://www.ikea.com/us/en/catalog/categories/departments/bedroom/11466/\n",
      "https://www.ikea.com/us/en/catalog/categories/departments/living_room/20926/\n",
      "https://www.ikea.com/us/en/catalog/categories/departments/outdoor/17893/\n",
      "https://www.ikea.com/us/en/catalog/categories/departments/outdoor/21964/\n",
      "https://www.ikea.com/us/en/catalog/categories/departments/home_improvement/21957/\n",
      "https://www.ikea.com/us/en/catalog/categories/departments/lighting/17897/\n",
      "https://www.ikea.com/us/en/catalog/categories/departments/outdoor/21958/\n",
      "https://www.ikea.com/us/en/catalog/categories/departments/outdoor/outdoor_pots_plants/\n",
      "https://www.ikea.com/us/en/catalog/categories/departments/outdoor/34203/\n",
      "https://www.ikea.com/us/en/catalog/categories/departments/ikea_kitchens/20810/\n",
      "https://www.ikea.com/us/en/catalog/categories/departments/cooking/15928/\n",
      "https://www.ikea.com/us/en/catalog/categories/departments/ikea_kitchens/16200/\n",
      "https://www.ikea.com/us/en/catalog/categories/departments/workspaces/10551/\n",
      "https://www.ikea.com/us/en/catalog/categories/departments/decoration/25227/\n",
      "https://www.ikea.com/us/en/catalog/categories/departments/food/25215/\n",
      "https://www.ikea.com/us/en/catalog/categories/departments/bedroom/29879/\n",
      "https://www.ikea.com/us/en/catalog/categories/departments/bedroom/24826/\n",
      "https://www.ikea.com/us/en/catalog/categories/departments/bedroom/20533/\n",
      "https://www.ikea.com/us/en/catalog/categories/departments/decoration/10768/\n",
      "https://www.ikea.com/us/en/catalog/categories/departments/childrens_ikea/18767/\n",
      "https://www.ikea.com/us/en/catalog/categories/departments/cooking/20633/\n",
      "https://www.ikea.com/us/en/catalog/categories/departments/bedroom/10455/\n",
      "https://www.ikea.com/us/en/catalog/categories/departments/ikea_kitchens/20811/\n",
      "https://www.ikea.com/us/en/catalog/categories/departments/ikea_kitchens/20822/\n",
      "https://www.ikea.com/us/en/catalog/categories/departments/living_room/living_room_rugs/\n",
      "https://www.ikea.com/us/en/catalog/categories/departments/home_improvement/16249/\n",
      "https://www.ikea.com/us/en/catalog/categories/departments/food/25216/\n",
      "https://www.ikea.com/us/en/catalog/categories/departments/living_room/16238/\n",
      "https://www.ikea.com/us/en/catalog/categories/departments/ikea_kitchens/24255/\n",
      "https://www.ikea.com/us/en/catalog/categories/departments/ikea_kitchens/24254/\n",
      "https://www.ikea.com/us/en/catalog/categories/departments/eating/16043/\n",
      "https://www.ikea.com/us/en/catalog/categories/departments/living_room/10803/\n",
      "https://www.ikea.com/us/en/catalog/categories/departments/living_room/11465/\n",
      "https://www.ikea.com/us/en/catalog/categories/departments/hallway/10456/\n",
      "https://www.ikea.com/us/en/catalog/categories/departments/hallway/10454/\n",
      "https://www.ikea.com/us/en/catalog/categories/departments/bathroom/18908/\n",
      "https://www.ikea.com/us/en/catalog/categories/departments/bathroom/40690/\n",
      "https://www.ikea.com/us/en/catalog/categories/departments/living_room/30454/\n",
      "https://www.ikea.com/us/en/catalog/categories/departments/bedroom/16285/\n",
      "https://www.ikea.com/us/en/catalog/categories/departments/bathroom/20719/\n",
      "https://www.ikea.com/us/en/catalog/categories/departments/bathroom/20723/\n",
      "https://www.ikea.com/us/en/catalog/categories/departments/bedroom/24827/\n",
      "https://www.ikea.com/us/en/catalog/categories/departments/living_room/10663/\n",
      "https://www.ikea.com/us/en/catalog/categories/departments/childrens_ikea/20475/\n",
      "https://www.ikea.com/us/en/catalog/categories/departments/lighting/36812/\n",
      "https://www.ikea.com/us/en/catalog/categories/departments/living_room/42249/\n",
      "https://www.ikea.com/us/en/catalog/categories/departments/home_electronics/40842/\n",
      "https://www.ikea.com/us/en/catalog/categories/departments/living_room/20506/\n",
      "https://www.ikea.com/us/en/catalog/categories/departments/bedroom/24828/\n",
      "https://www.ikea.com/us/en/catalog/categories/departments/ikea_kitchens/20611/\n",
      "https://www.ikea.com/us/en/catalog/categories/departments/dining/10728/\n",
      "https://www.ikea.com/us/en/catalog/categories/departments/living_room/10550/\n",
      "https://www.ikea.com/us/en/catalog/categories/departments/workspaces/10385/\n",
      "https://www.ikea.com/us/en/catalog/categories/departments/childrens_ikea/18706/\n",
      "https://www.ikea.com/us/en/catalog/categories/departments/childrens_ikea/18835/\n",
      "https://www.ikea.com/us/en/catalog/categories/departments/secondary_storage/10397/\n",
      "https://www.ikea.com/us/en/catalog/categories/departments/living_room/10732/\n",
      "https://www.ikea.com/us/en/catalog/categories/departments/Textiles/20538/\n",
      "https://www.ikea.com/us/en/catalog/categories/departments/workspaces/10712/\n",
      "https://www.ikea.com/us/en/catalog/categories/departments/ikea_kitchens/16292/\n",
      "https://www.ikea.com/us/en/catalog/categories/departments/bathroom/20520/\n",
      "https://www.ikea.com/us/en/catalog/categories/departments/childrens_ikea/18734/\n",
      "https://www.ikea.com/us/en/catalog/categories/departments/ikea_family_products/16248/\n",
      "https://www.ikea.com/us/en/catalog/categories/departments/living_room/10475/\n",
      "https://www.ikea.com/us/en/catalog/categories/departments/outdoor/17887/\n",
      "https://www.ikea.com/us/en/catalog/categories/departments/bedroom/20657/\n",
      "https://www.ikea.com/us/en/catalog/categories/departments/decoration/10769/\n",
      "https://www.ikea.com/us/en/catalog/categories/departments/food/25213/\n",
      "https://www.ikea.com/us/en/catalog/categories/departments/lighting/20503/\n",
      "https://www.ikea.com/us/en/catalog/categories/departments/living_room/10398/\n",
      "https://www.ikea.com/us/en/catalog/categories/departments/ikea_kitchens/20676/\n",
      "https://www.ikea.com/us/en/catalog/categories/departments/bedroom/19053/\n",
      "https://www.ikea.com/us/en/catalog/categories/departments/secondary_storage/18741/\n",
      "https://www.ikea.com/us/en/catalog/categories/departments/workspaces/20502/\n"
     ]
    }
   ],
   "source": [
    "prods = []\n",
    "failed = []\n",
    "for category_url in catelog_urls:\n",
    "    url = 'https://www.ikea.com' + category_url\n",
    "    print(url)\n",
    "    try:\n",
    "        fp = urllib.request.urlopen(url)\n",
    "        tt = fp.read().decode(\"utf8\")\n",
    "        dd = list(zip(* prod_pp.findall(str(tt)) ) )\n",
    "        prods.append(dd)\n",
    "    except:\n",
    "        failed.append(url)\n",
    "        print('Failed%s '%url)\n",
    "    "
   ]
  },
  {
   "cell_type": "markdown",
   "metadata": {},
   "source": [
    "check if there were any exceptions"
   ]
  },
  {
   "cell_type": "code",
   "execution_count": 74,
   "metadata": {},
   "outputs": [
    {
     "data": {
      "text/plain": [
       "[]"
      ]
     },
     "execution_count": 74,
     "metadata": {},
     "output_type": "execute_result"
    }
   ],
   "source": [
    "failed"
   ]
  },
  {
   "cell_type": "markdown",
   "metadata": {},
   "source": [
    "## Housekeeping\n",
    "\n",
    "We should have done this in the scraping loop\n",
    "but it's not too late.\n",
    "\n",
    "Plant names are not interesting being mostly Greek so delete them."
   ]
  },
  {
   "cell_type": "code",
   "execution_count": 166,
   "metadata": {},
   "outputs": [
    {
     "data": {
      "text/plain": [
       "\"SOCKER SOCKER SOCKER SOCKER INGEFÄRA SOCKER IKEA PS 2014 BITTERGURKA SOCKER VATTENKRASSE KANELSTÅNG LANTLIV LANTLIV LANTLIV SATSUMAS SATSUMAS ASKHOLMEN SATSUMAS ASKHOLMEN SOCKER SOCKER VILDAPEL TOMAT TOMAT IKEA PS 2002 DRACAENA DRACAENA ODLA HIMALAYAMIX SUCCULENT CACTACEAE KALANCHOE PHALAENOPSIS PHALAENOPSIS HIPPEASTRUM PHALAENOPSIS BROMELIACEAE SUCCULENT SUCCULENT ASPLENIUM 'CRISPY WAVE' DRACAENA MARGINATA ALOE VERA PEPEROMIA DRACAENA MARGINATA EUPHORBIA CHAMAECYPARIS ZAMIOCULCAS FICUS LYRATA BAMBINO FICUS MICROCARPA GINSENG FICUS MICROCARPA GINSENG CRASSULA SPATHIPHYLLUM CHAMAEDOREA ELEGANS CHAMAEDOREA CATARA DRACAENA MASSANGEANA PACHIRA AQUATICA BEAUCARNEA RECURVATA RAVENEA AECHMEA YUCCA ELEPHANTIPES TROPISK SANSEVIERIA TRIFASCIATA SCHLUMBERGERA ARAUCARIA CODIAEUM PACHIRA AQUATICA ASKHOLMEN ASKHOLMEN SANSEVIERIA ANANAS CALATHEA DRACAENA\""
      ]
     },
     "execution_count": 166,
     "metadata": {},
     "output_type": "execute_result"
    }
   ],
   "source": [
    "' '.join(catalog['Outdoor pots & plants'][0])"
   ]
  },
  {
   "cell_type": "code",
   "execution_count": 167,
   "metadata": {},
   "outputs": [],
   "source": [
    "catalog = dict( zip( categories_tags, prods) )\n",
    "kill = [x for x in catalog.keys() if 'plant' in x]\n",
    "print(kill)\n",
    "\n",
    "for x in kill:\n",
    "    del catalog[x]"
   ]
  },
  {
   "cell_type": "code",
   "execution_count": 77,
   "metadata": {},
   "outputs": [],
   "source": [
    "import pickle\n",
    "with open('ikea.pkl','wb') as fp:\n",
    "    pickle.dump(catalog, fp)"
   ]
  },
  {
   "cell_type": "markdown",
   "metadata": {},
   "source": [
    "- Clean up some more by getting rid of multiple entries\n",
    "- Make a word bag of all product names"
   ]
  },
  {
   "cell_type": "code",
   "execution_count": 80,
   "metadata": {},
   "outputs": [],
   "source": [
    "cat2 = { x: set(y[0]) for x,y in catalog.items() if y}"
   ]
  },
  {
   "cell_type": "code",
   "execution_count": 131,
   "metadata": {},
   "outputs": [],
   "source": [
    "import itertools\n",
    "# this was a test on a small subset\n",
    "# dd = [ list(y) for x,y in cat2.items() if 'bed' in x.lower()]\n",
    "dd = [ list(y) for x,y in cat2.items() ]\n",
    "word_bag  = list(itertools.chain(*dd) )\n",
    "word_bag.append(' ')        "
   ]
  },
  {
   "cell_type": "markdown",
   "metadata": {},
   "source": [
    "kill any words that have numbers in them"
   ]
  },
  {
   "cell_type": "code",
   "execution_count": 101,
   "metadata": {},
   "outputs": [],
   "source": [
    "pp = re.compile('\\d')\n",
    "words = ' '.join([ x for x in word_bag if not pp.search(x)])"
   ]
  },
  {
   "cell_type": "markdown",
   "metadata": {},
   "source": [
    "## Make a list of all transitions"
   ]
  },
  {
   "cell_type": "code",
   "execution_count": 173,
   "metadata": {},
   "outputs": [
    {
     "data": {
      "text/plain": [
       "['KN', 'NI', 'IS', 'SL', 'LI', 'IN', 'NG', 'GE', 'E ', ' L']"
      ]
     },
     "execution_count": 173,
     "metadata": {},
     "output_type": "execute_result"
    }
   ],
   "source": [
    "transitions = [ words[i:i+2] for i in range(0,len(words) - 1)]\n",
    "transitions[:10]"
   ]
  },
  {
   "cell_type": "markdown",
   "metadata": {},
   "source": [
    "you can calculate frequencies like this but we don't need to use tem"
   ]
  },
  {
   "cell_type": "code",
   "execution_count": 93,
   "metadata": {},
   "outputs": [],
   "source": [
    "tx = [x for x in transitions if x[0] == 'N']\n",
    "tx.sort()\n",
    "from  collections import Counter\n",
    "txx = Counter(tx)"
   ]
  },
  {
   "cell_type": "markdown",
   "metadata": {},
   "source": [
    "# Random walk\n",
    "\n",
    "Make a dictionnary for the random walk\n",
    "\n",
    "- keys are just characters\n",
    "- items are lists of characters that follow a key in the word_bag "
   ]
  },
  {
   "cell_type": "code",
   "execution_count": 134,
   "metadata": {},
   "outputs": [],
   "source": [
    "keys = set([ x for x in words])\n",
    "trans_dict = { x:[] for x in keys}\n",
    "for x in transitions:\n",
    "    trans_dict[x[0]].append(x[1])"
   ]
  },
  {
   "cell_type": "code",
   "execution_count": 159,
   "metadata": {},
   "outputs": [],
   "source": [
    "import random\n",
    "\n",
    "def mk_word(xx):\n",
    "    word = ''\n",
    "    while xx != ' ':\n",
    "        word += xx\n",
    "        xx = random.choice(trans_dict[xx])\n",
    "    return word\n",
    "    "
   ]
  },
  {
   "cell_type": "code",
   "execution_count": 162,
   "metadata": {},
   "outputs": [
    {
     "data": {
      "text/plain": [
       "'BOLSSJUMNDERINHÖDRERÖR BALA BOFIGSKN BISÖ BEDNÖVIG BALFÅD BJUSORA BIGILINGGAR BORNG BIKELYUSIK'"
      ]
     },
     "execution_count": 162,
     "metadata": {},
     "output_type": "execute_result"
    }
   ],
   "source": [
    "ikea_words = [ mk_word('B') for i in range(20) ]\n",
    "ikea_words = [ x for x in ikea_words if len(x) > 3]\n",
    "' '.join(ikea_words)"
   ]
  },
  {
   "cell_type": "code",
   "execution_count": null,
   "metadata": {},
   "outputs": [],
   "source": [
    "BORDISASTEBRARVAS"
   ]
  }
 ],
 "metadata": {
  "kernelspec": {
   "display_name": "Python 3",
   "language": "python",
   "name": "python3"
  },
  "language_info": {
   "codemirror_mode": {
    "name": "ipython",
    "version": 3
   },
   "file_extension": ".py",
   "mimetype": "text/x-python",
   "name": "python",
   "nbconvert_exporter": "python",
   "pygments_lexer": "ipython3",
   "version": "3.6.5"
  }
 },
 "nbformat": 4,
 "nbformat_minor": 2
}
